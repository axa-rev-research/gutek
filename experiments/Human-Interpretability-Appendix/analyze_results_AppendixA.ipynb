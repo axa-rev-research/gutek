{
 "cells": [
  {
   "cell_type": "code",
   "execution_count": null,
   "metadata": {},
   "outputs": [],
   "source": [
    "import pandas as pd\n",
    "import numpy as np"
   ]
  },
  {
   "cell_type": "code",
   "execution_count": null,
   "metadata": {},
   "outputs": [],
   "source": [
    "results = pd.read_csv('../results/e4/ng_religion_v3.csv', index_col=0)\n",
    "results.head()"
   ]
  },
  {
   "cell_type": "code",
   "execution_count": null,
   "metadata": {},
   "outputs": [],
   "source": [
    "def convert_to_list(liststring):\n",
    "    return [int(i) for i in liststring[1:-1].replace('\\n', '').split()]"
   ]
  },
  {
   "cell_type": "code",
   "execution_count": null,
   "metadata": {},
   "outputs": [],
   "source": [
    "rm = results.pivot_table(values='IoU', \n",
    "                    index='method_segment', \n",
    "                    columns='method_gt', \n",
    "                    aggfunc='mean')\n",
    "rm"
   ]
  },
  {
   "cell_type": "code",
   "execution_count": null,
   "metadata": {},
   "outputs": [],
   "source": [
    "def generate_latex_results(results, decimals=2, do_htmm=True):\n",
    "    columns = ['segment_neural', 'segment_topictiling', 'segment_sentence']\n",
    "    if do_htmm:\n",
    "        columns.append('segment_htmm')\n",
    "    rm = results.pivot_table(values='IoU', \n",
    "                            index='method_segment', \n",
    "                            columns='method_gt', \n",
    "                            aggfunc='mean')\n",
    "    rs = results.pivot_table(values='IoU', \n",
    "                            index='method_segment', \n",
    "                            columns='method_gt', \n",
    "                            aggfunc='std')\n",
    "    res = (rm.round(decimals).astype('str')+'('+rs.round(decimals).astype('str')+')')\n",
    "    res = res.reset_index()\n",
    "    order_dict = {\n",
    "        'segment_neural' : 0, \n",
    "        'segment_paragraph' : 4,\n",
    "        'segment_sentence' : 3,\n",
    "        'segment_topictiling' : 1,\n",
    "        'segment_htmm' : 2\n",
    "        \n",
    "    }\n",
    "    res['order'] = res.apply(lambda row: order_dict[row.method_segment], axis=1)\n",
    "    res = res.sort_values('order')\n",
    "    res = res.set_index('method_segment')\n",
    "    return res[columns]"
   ]
  },
  {
   "cell_type": "code",
   "execution_count": null,
   "metadata": {},
   "outputs": [],
   "source": [
    "print(generate_latex_results(results, do_htmm=True).to_latex())"
   ]
  },
  {
   "cell_type": "code",
   "execution_count": null,
   "metadata": {},
   "outputs": [],
   "source": [
    "results.ground_truth = results.apply(lambda row: convert_to_list(row.ground_truth), axis=1)\n"
   ]
  },
  {
   "cell_type": "code",
   "execution_count": null,
   "metadata": {},
   "outputs": [],
   "source": [
    "results.prediciton = results.apply(lambda row: convert_to_list(row.prediciton), axis=1)"
   ]
  },
  {
   "cell_type": "code",
   "execution_count": null,
   "metadata": {},
   "outputs": [],
   "source": [
    "import numpy as np\n",
    "def detection(true, pred):\n",
    "    if len(true)==len(pred):\n",
    "        return int((np.array(true)*np.array(pred)).sum()>0)\n",
    "    else:\n",
    "        return float('NaN')"
   ]
  },
  {
   "cell_type": "code",
   "execution_count": null,
   "metadata": {},
   "outputs": [],
   "source": [
    "results['detection'] = results.apply(lambda row: detection(row.ground_truth,row.prediciton),axis=1)"
   ]
  },
  {
   "cell_type": "code",
   "execution_count": null,
   "metadata": {},
   "outputs": [],
   "source": [
    "r2 = results.loc[results.detection==1]"
   ]
  },
  {
   "cell_type": "code",
   "execution_count": null,
   "metadata": {},
   "outputs": [],
   "source": [
    "r2.pivot_table(values='IoU', \n",
    "                    index='method_segment', \n",
    "                    columns='method_gt', \n",
    "                    aggfunc='mean')"
   ]
  },
  {
   "cell_type": "code",
   "execution_count": null,
   "metadata": {},
   "outputs": [],
   "source": [
    "results['np'] = results.apply(lambda row: sum(row.prediciton), axis=1)"
   ]
  },
  {
   "cell_type": "code",
   "execution_count": null,
   "metadata": {},
   "outputs": [],
   "source": [
    "results.loc[results.np==0]"
   ]
  },
  {
   "cell_type": "markdown",
   "metadata": {},
   "source": [
    "The prediction may be 0 if a segment is detected which does not contain any sentece, notably in paragraph segmentation where more than 1 newline may be present (does not happen for other segmentations)"
   ]
  },
  {
   "cell_type": "code",
   "execution_count": null,
   "metadata": {},
   "outputs": [],
   "source": [
    "from nltk.tokenize import sent_tokenize"
   ]
  },
  {
   "cell_type": "code",
   "execution_count": null,
   "metadata": {},
   "outputs": [],
   "source": [
    "sent_tokenize('\\n')"
   ]
  },
  {
   "cell_type": "code",
   "execution_count": null,
   "metadata": {},
   "outputs": [],
   "source": [
    "sent_tokenize('ih')"
   ]
  },
  {
   "cell_type": "code",
   "execution_count": null,
   "metadata": {},
   "outputs": [],
   "source": [
    "sent_tokenize(' ')"
   ]
  },
  {
   "cell_type": "code",
   "execution_count": null,
   "metadata": {},
   "outputs": [],
   "source": []
  }
 ],
 "metadata": {
  "kernelspec": {
   "display_name": "Python 3",
   "language": "python",
   "name": "python3"
  },
  "language_info": {
   "codemirror_mode": {
    "name": "ipython",
    "version": 3
   },
   "file_extension": ".py",
   "mimetype": "text/x-python",
   "name": "python",
   "nbconvert_exporter": "python",
   "pygments_lexer": "ipython3",
   "version": "3.7.9"
  }
 },
 "nbformat": 4,
 "nbformat_minor": 4
}
